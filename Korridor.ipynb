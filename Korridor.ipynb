{
 "cells": [
  {
   "cell_type": "code",
   "execution_count": 1,
   "metadata": {},
   "outputs": [],
   "source": [
    "from manim import *\n",
    "import numpy as np\n",
    "\n",
    "config.media_width = \"75%\"\n",
    "config.verbosity = \"WARNING\""
   ]
  },
  {
   "cell_type": "code",
   "execution_count": null,
   "metadata": {},
   "outputs": [],
   "source": []
  },
  {
   "cell_type": "code",
   "execution_count": 2,
   "metadata": {},
   "outputs": [],
   "source": [
    "sigma_inner = 1\n",
    "sigma_outer = 2\n",
    "\n",
    "y_values = np.array([10, 30, 20, 40, 25, 20])\n",
    "x_values = np.arange(0,len(y_values))\n",
    "y_interp= lambda x: np.interp(x,x_values,y_values)\n",
    "y_upper_inner = lambda x: np.interp(x,x_values,y_values + sigma_inner)\n",
    "y_upper_outer = lambda x: np.interp(x,x_values,y_values + sigma_outer)\n",
    "y_lower_inner = lambda x: np.interp(x,x_values,y_values - sigma_inner)\n",
    "y_lower_outer = lambda x: np.interp(x,x_values,y_values - sigma_outer)"
   ]
  },
  {
   "cell_type": "code",
   "execution_count": 3,
   "metadata": {},
   "outputs": [
    {
     "data": {
      "text/html": [
       "<pre style=\"white-space:pre;overflow-x:auto;line-height:normal;font-family:Menlo,'DejaVu Sans Mono',consolas,'Courier New',monospace\">Manim Community <span style=\"color: #008000; text-decoration-color: #008000\">v0.18.1</span>\n",
       "\n",
       "</pre>\n"
      ],
      "text/plain": [
       "Manim Community \u001b[32mv0.\u001b[0m\u001b[32m18.1\u001b[0m\n",
       "\n"
      ]
     },
     "metadata": {},
     "output_type": "display_data"
    },
    {
     "name": "stderr",
     "output_type": "stream",
     "text": [
      "                                                                                     \r"
     ]
    },
    {
     "data": {
      "text/html": [
       "<video src=\"media\\jupyter\\Intro@2024-06-03@10-38-01.mp4\" controls autoplay loop style=\"max-width: 75%;\"  >\n",
       "      Your browser does not support the <code>video</code> element.\n",
       "    </video>"
      ],
      "text/plain": [
       "<IPython.core.display.Video object>"
      ]
     },
     "metadata": {},
     "output_type": "display_data"
    }
   ],
   "source": [
    "%%manim -qm Intro\n",
    "class Intro(Scene):\n",
    "    def construct(self):\n",
    "        \n",
    "        title = Text(\"Korridor Norm\")\n",
    "        text=MathTex(\n",
    "            \"\\\\frac{d}{dx}f(x)g(x)=\",\"f(x)\\\\frac{d}{dx}g(x)\",\"+\",\n",
    "            \"g(x)\\\\frac{d}{dx}f(x)\"\n",
    "        )\n",
    "        v_group = VGroup(Text(\"Korridor Norm - ISO 18571\", font=\"Arial\" ))\n",
    "        self.play(Write(v_group.arrange(DOWN)))\n",
    "        self.wait()\n",
    "        self.play(Uncreate(v_group))\n",
    "        "
   ]
  },
  {
   "cell_type": "code",
   "execution_count": 4,
   "metadata": {},
   "outputs": [
    {
     "data": {
      "text/html": [
       "<pre style=\"white-space:pre;overflow-x:auto;line-height:normal;font-family:Menlo,'DejaVu Sans Mono',consolas,'Courier New',monospace\">Manim Community <span style=\"color: #008000; text-decoration-color: #008000\">v0.18.1</span>\n",
       "\n",
       "</pre>\n"
      ],
      "text/plain": [
       "Manim Community \u001b[32mv0.\u001b[0m\u001b[32m18.1\u001b[0m\n",
       "\n"
      ]
     },
     "metadata": {},
     "output_type": "display_data"
    },
    {
     "name": "stderr",
     "output_type": "stream",
     "text": [
      "                                                                                                                                                \r"
     ]
    },
    {
     "data": {
      "text/html": [
       "<video src=\"media\\jupyter\\AeraCorridor@2024-06-03@10-38-12.mp4\" controls autoplay loop style=\"max-width: 75%;\"  >\n",
       "      Your browser does not support the <code>video</code> element.\n",
       "    </video>"
      ],
      "text/plain": [
       "<IPython.core.display.Video object>"
      ]
     },
     "metadata": {},
     "output_type": "display_data"
    }
   ],
   "source": [
    "%%manim -qm AeraCorridor\n",
    "class AeraCorridor(Scene):\n",
    "    def construct(self):\n",
    "        def move_corridor(upper_c, lower_c, σ_new: float | int, anim_num: bool):\n",
    "            x = [\n",
    "                upper_c.animate.move_to(line_graph.get_center() + (0,σ_new,0)),\n",
    "                lower_c.animate.move_to(line_graph.get_center() + (0,-1*σ_new,0)),\n",
    "            ]\n",
    "            if anim_num:\n",
    "                x.append(t1.animate.set_value(σ_new * 10))\n",
    "                \n",
    "            self.play(*x, run_time=2)\n",
    "        \n",
    "        ax = Axes(\n",
    "            x_range = (0, 6),\n",
    "            y_range = (0, 60, 10),\n",
    "            axis_config={\"include_numbers\": True},\n",
    "        )\n",
    "        ax.center()\n",
    "        \n",
    "        line_graph = ax.plot_line_graph(\n",
    "            x_values = x_values,\n",
    "            y_values = y_values,\n",
    "            line_color=BLUE,\n",
    "            vertex_dot_style=dict(stroke_width=3,  fill_color=PURPLE),\n",
    "            stroke_width = 4,\n",
    "            z_index =1,\n",
    "        )\n",
    "      \n",
    "        curve = ax.plot(\n",
    "            y_interp,\n",
    "            x_range = (x_values[0], x_values[-1],1),\n",
    "            color=GREEN,\n",
    "            use_smoothing = False,\n",
    "            z_index =1,\n",
    "        )\n",
    "        \n",
    "        c_upper_outer = ax.plot(\n",
    "            y_upper_outer,\n",
    "            x_range = (x_values[0], x_values[-1],1),\n",
    "            color=RED,\n",
    "            use_smoothing = False\n",
    "        )\n",
    "        \n",
    "        c_upper_inner = ax.plot(\n",
    "            y_upper_inner,\n",
    "            x_range = (x_values[0], x_values[-1],1),\n",
    "            color=GREEN_D,\n",
    "            use_smoothing = False\n",
    "        )\n",
    "        \n",
    "        c_lower_outer = ax.plot(\n",
    "            y_lower_outer,\n",
    "            x_range = (x_values[0], x_values[-1],1),\n",
    "            color=RED,\n",
    "            use_smoothing = False\n",
    "        )\n",
    "        \n",
    "        c_lower_inner = ax.plot(\n",
    "            y_lower_inner,\n",
    "            x_range = (x_values[0], x_values[-1],1),\n",
    "            color=GREEN_D,\n",
    "            use_smoothing = False\n",
    "        )\n",
    "        \n",
    "        brace = BraceBetweenPoints(ax.c2p(3,40),ax.c2p(3,50))\n",
    "        b2text = brace.get_tex(r\"\\sigma=1\")\n",
    "        \n",
    "        #c1 = DashedVMobject(curve.copy(),dashed_ratio =0.5, num_dashes = 100)\n",
    "        #c2 = DashedVMobject(curve.copy(),dashed_ratio =0.5, num_dashes = 100)\n",
    "        c1 = curve.copy()\n",
    "        c2 = curve.copy()\n",
    "           \n",
    "        t1 = ValueTracker(0)\n",
    "        number = always_redraw(lambda: DecimalNumber(t1.get_value(), \n",
    "                                                     num_decimal_places = 0)\n",
    "                                        .next_to(brace, RIGHT))\n",
    "\n",
    "\n",
    "        self.play(FadeIn(ax))\n",
    "        self.play(Create(line_graph))\n",
    "        self.add(c1,c2)\n",
    "        self.play(Write(number))\n",
    "        move_corridor(c1,c2,1,True)\n",
    "        \n",
    "        self.play(FadeIn(brace))\n",
    "        self.wait(1)\n",
    "        self.play(FadeOut(brace))\n",
    "        \n",
    "        move_corridor(c1,c2,0.5,True)\n",
    "        area = ax.get_area(\n",
    "            c1,\n",
    "            x_range=(x_values[0], x_values[-1]),\n",
    "            color=GREEN_B,\n",
    "            opacity=.2,\n",
    "            bounded_graph = c2,\n",
    "            z_index = 3,\n",
    "        )\n",
    "  \n",
    "        self.play(FadeIn(area))\n",
    "        \n",
    "        c1_ = c1.copy()\n",
    "        c1_.set_color(RED)\n",
    "        c2_ = c2.copy()\n",
    "        c2_.set_color(RED)\n",
    "        move_corridor(c1_,c2_,2, False)\n",
    "\n",
    "        self.add(c1_,c2_)\n",
    "        self.wait(5)        \n",
    "\n",
    "         \n"
   ]
  },
  {
   "cell_type": "code",
   "execution_count": null,
   "metadata": {},
   "outputs": [],
   "source": []
  },
  {
   "cell_type": "code",
   "execution_count": 5,
   "metadata": {},
   "outputs": [],
   "source": [
    "#corridor = AeraCorridor()\n",
    "#corridor.construct()"
   ]
  },
  {
   "cell_type": "code",
   "execution_count": null,
   "metadata": {},
   "outputs": [],
   "source": []
  }
 ],
 "metadata": {
  "kernelspec": {
   "display_name": ".venv",
   "language": "python",
   "name": "python3"
  },
  "language_info": {
   "codemirror_mode": {
    "name": "ipython",
    "version": 3
   },
   "file_extension": ".py",
   "mimetype": "text/x-python",
   "name": "python",
   "nbconvert_exporter": "python",
   "pygments_lexer": "ipython3",
   "version": "3.11.4"
  }
 },
 "nbformat": 4,
 "nbformat_minor": 2
}
