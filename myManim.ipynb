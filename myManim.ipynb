{
 "cells": [
  {
   "cell_type": "code",
   "execution_count": 3,
   "metadata": {},
   "outputs": [],
   "source": [
    "from manim import *\n",
    "import numpy as np\n",
    "\n",
    "config.media_width = \"75%\"\n",
    "config.verbosity = \"WARNING\""
   ]
  },
  {
   "cell_type": "code",
   "execution_count": 4,
   "metadata": {},
   "outputs": [],
   "source": [
    "sigma_inner = 1\n",
    "sigma_outer = 2\n",
    "\n",
    "y_values = np.array([1, 3, 2, 4, 2.5, 1.75])\n",
    "x_values = np.arange(0,len(y_values))\n",
    "y_interp= lambda x: np.interp(x,x_values,y_values)\n",
    "y_upper_inner = lambda x: np.interp(x,x_values,y_values + sigma_inner)\n",
    "y_upper_outer = lambda x: np.interp(x,x_values,y_values + sigma_outer)\n",
    "y_lower_inner = lambda x: np.interp(x,x_values,y_values - sigma_inner)\n",
    "y_lower_outer = lambda x: np.interp(x,x_values,y_values - sigma_outer)"
   ]
  },
  {
   "cell_type": "code",
   "execution_count": 6,
   "metadata": {},
   "outputs": [
    {
     "data": {
      "text/html": [
       "<pre style=\"white-space:pre;overflow-x:auto;line-height:normal;font-family:Menlo,'DejaVu Sans Mono',consolas,'Courier New',monospace\">Manim Community <span style=\"color: #008000; text-decoration-color: #008000\">v0.18.1</span>\n",
       "\n",
       "</pre>\n"
      ],
      "text/plain": [
       "Manim Community \u001b[32mv0.\u001b[0m\u001b[32m18.1\u001b[0m\n",
       "\n"
      ]
     },
     "metadata": {},
     "output_type": "display_data"
    },
    {
     "name": "stderr",
     "output_type": "stream",
     "text": [
      "                                                                                               \r"
     ]
    },
    {
     "data": {
      "text/html": [
       "<video src=\"media\\jupyter\\Intro@2024-05-31@18-23-07.mp4\" controls autoplay loop style=\"max-width: 75%;\"  >\n",
       "      Your browser does not support the <code>video</code> element.\n",
       "    </video>"
      ],
      "text/plain": [
       "<IPython.core.display.Video object>"
      ]
     },
     "metadata": {},
     "output_type": "display_data"
    }
   ],
   "source": [
    "%%manim -qm Intro\n",
    "class Intro(Scene):\n",
    "    def construct(self):\n",
    "        \n",
    "        title = Text(\"Korridor Norm\")\n",
    "        text=MathTex(\n",
    "            \"\\\\frac{d}{dx}f(x)g(x)=\",\"f(x)\\\\frac{d}{dx}g(x)\",\"+\",\n",
    "            \"g(x)\\\\frac{d}{dx}f(x)\"\n",
    "        )\n",
    "        v_group = VGroup(Text(\"Korridor Norm - ISO 18571\", font=\"Arial\" ))\n",
    "        self.play(Write(v_group.arrange(DOWN)))\n",
    "        self.wait()\n",
    "        self.play(Uncreate(v_group))\n",
    "        "
   ]
  },
  {
   "cell_type": "code",
   "execution_count": 4,
   "metadata": {},
   "outputs": [
    {
     "data": {
      "text/html": [
       "<pre style=\"white-space:pre;overflow-x:auto;line-height:normal;font-family:Menlo,'DejaVu Sans Mono',consolas,'Courier New',monospace\">Manim Community <span style=\"color: #008000; text-decoration-color: #008000\">v0.18.1</span>\n",
       "\n",
       "</pre>\n"
      ],
      "text/plain": [
       "Manim Community \u001b[32mv0.\u001b[0m\u001b[32m18.1\u001b[0m\n",
       "\n"
      ]
     },
     "metadata": {},
     "output_type": "display_data"
    },
    {
     "data": {
      "image/png": "[encoded data removed]",
      "text/plain": [
       "<IPython.core.display.Image object>"
      ]
     },
     "metadata": {},
     "output_type": "display_data"
    }
   ],
   "source": [
    "%%manim -qm Tolerance\n",
    "\n",
    "class Tolerance(Scene):\n",
    "    def construct(self):\n",
    "        plane = NumberPlane(\n",
    "            x_range = (0, 7),\n",
    "            y_range = (0, 5),\n",
    "            x_length = 7,\n",
    "            axis_config={\"include_numbers\": True},\n",
    "        )\n",
    "        plane.center()\n",
    "        line_graph = plane.plot_line_graph(\n",
    "            x_values = x_values,\n",
    "            y_values = y_values,\n",
    "            line_color=GOLD_E,\n",
    "            vertex_dot_style=dict(stroke_width=3,  fill_color=PURPLE),\n",
    "            stroke_width = 4,\n",
    "        )\n",
    "        self.add(plane, line_graph)"
   ]
  },
  {
   "cell_type": "code",
   "execution_count": 7,
   "metadata": {},
   "outputs": [
    {
     "data": {
      "text/html": [
       "<pre style=\"white-space:pre;overflow-x:auto;line-height:normal;font-family:Menlo,'DejaVu Sans Mono',consolas,'Courier New',monospace\">Manim Community <span style=\"color: #008000; text-decoration-color: #008000\">v0.18.1</span>\n",
       "\n",
       "</pre>\n"
      ],
      "text/plain": [
       "Manim Community \u001b[32mv0.\u001b[0m\u001b[32m18.1\u001b[0m\n",
       "\n"
      ]
     },
     "metadata": {},
     "output_type": "display_data"
    },
    {
     "name": "stderr",
     "output_type": "stream",
     "text": [
      "                                                                                                                                                          \r"
     ]
    },
    {
     "data": {
      "text/html": [
       "<video src=\"media\\jupyter\\AeraCorridor@2024-05-31@18-24-19.mp4\" controls autoplay loop style=\"max-width: 75%;\"  >\n",
       "      Your browser does not support the <code>video</code> element.\n",
       "    </video>"
      ],
      "text/plain": [
       "<IPython.core.display.Video object>"
      ]
     },
     "metadata": {},
     "output_type": "display_data"
    }
   ],
   "source": [
    "%%manim -qm AeraCorridor\n",
    "class AeraCorridor(Scene):\n",
    "    def construct(self):\n",
    "        ax = Axes(\n",
    "            x_range = (0, 6),\n",
    "            y_range = (0, 6),\n",
    "            x_length = 7,\n",
    "            axis_config={\"include_numbers\": True},\n",
    "        )\n",
    "        \n",
    "        ax.center()\n",
    "        \n",
    "        # ax = Axes().add_coordinates()\n",
    "        line_graph = ax.plot_line_graph(\n",
    "            x_values = x_values,\n",
    "            y_values = y_values,\n",
    "            line_color=GOLD_E,\n",
    "            vertex_dot_style=dict(stroke_width=3,  fill_color=PURPLE),\n",
    "            stroke_width = 4,\n",
    "        )\n",
    "      \n",
    "        curve = ax.plot(\n",
    "            y_interp,\n",
    "            x_range = (x_values[0], x_values[-1],1),\n",
    "            color=DARK_BLUE,\n",
    "            use_smoothing = False,\n",
    "        )\n",
    "        \n",
    "        c_upper_outer = ax.plot(\n",
    "            y_upper_outer,\n",
    "            x_range = (x_values[0], x_values[-1],1),\n",
    "            color=RED,\n",
    "            use_smoothing = False\n",
    "        )\n",
    "        \n",
    "        c_upper_inner = ax.plot(\n",
    "            y_upper_inner,\n",
    "            x_range = (x_values[0], x_values[-1],1),\n",
    "            color=GREEN_D,\n",
    "            use_smoothing = False\n",
    "        )\n",
    "        \n",
    "        c_lower_outer = ax.plot(\n",
    "            y_lower_outer,\n",
    "            x_range = (x_values[0], x_values[-1],1),\n",
    "            color=RED,\n",
    "            use_smoothing = False\n",
    "        )\n",
    "        \n",
    "        c_lower_inner = ax.plot(\n",
    "            y_lower_inner,\n",
    "            x_range = (x_values[0], x_values[-1],1),\n",
    "            color=GREEN_D,\n",
    "            use_smoothing = False\n",
    "        )\n",
    "        \n",
    "        area = ax.get_area(\n",
    "            c_upper_inner,\n",
    "            x_range=(x_values[0], x_values[-1]),\n",
    "            color=(GREEN_B, GREEN_D),\n",
    "            opacity=.5,\n",
    "            bounded_graph = c_lower_inner,\n",
    "        )\n",
    "        \n",
    "        self.play(FadeIn(ax))\n",
    "        self.play(Create(line_graph))\n",
    "        self.play(Create(c_upper_inner))\n",
    "        self.play(Create(c_lower_inner))\n",
    "        self.play(FadeIn(area))"
   ]
  }
 ],
 "metadata": {
  "kernelspec": {
   "display_name": ".venv",
   "language": "python",
   "name": "python3"
  },
  "language_info": {
   "codemirror_mode": {
    "name": "ipython",
    "version": 3
   },
   "file_extension": ".py",
   "mimetype": "text/x-python",
   "name": "python",
   "nbconvert_exporter": "python",
   "pygments_lexer": "ipython3",
   "version": "3.11.4"
  }
 },
 "nbformat": 4,
 "nbformat_minor": 2
}
